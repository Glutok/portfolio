{
 "cells": [
  {
   "cell_type": "markdown",
   "metadata": {
    "toc": true
   },
   "source": [
    "<h1>Содержание<span class=\"tocSkip\"></span></h1>\n",
    "<div class=\"toc\"><ul class=\"toc-item\"><li><span><a href=\"#Подготовка\" data-toc-modified-id=\"Подготовка-1\"><span class=\"toc-item-num\">1&nbsp;&nbsp;</span>Подготовка</a></span><ul class=\"toc-item\"><li><span><a href=\"#загружаю-данные\" data-toc-modified-id=\"загружаю-данные-1.1\"><span class=\"toc-item-num\">1.1&nbsp;&nbsp;</span>загружаю данные</a></span></li><li><span><a href=\"#ресемплирую-данные-по-1-часу\" data-toc-modified-id=\"ресемплирую-данные-по-1-часу-1.2\"><span class=\"toc-item-num\">1.2&nbsp;&nbsp;</span>ресемплирую данные по 1 часу</a></span></li></ul></li><li><span><a href=\"#Анализ\" data-toc-modified-id=\"Анализ-2\"><span class=\"toc-item-num\">2&nbsp;&nbsp;</span>Анализ</a></span></li><li><span><a href=\"#Обучение\" data-toc-modified-id=\"Обучение-3\"><span class=\"toc-item-num\">3&nbsp;&nbsp;</span>Обучение</a></span></li><li><span><a href=\"#Тестирование\" data-toc-modified-id=\"Тестирование-4\"><span class=\"toc-item-num\">4&nbsp;&nbsp;</span>Тестирование</a></span></li><li><span><a href=\"#Чек-лист-проверки\" data-toc-modified-id=\"Чек-лист-проверки-5\"><span class=\"toc-item-num\">5&nbsp;&nbsp;</span>Чек-лист проверки</a></span></li></ul></div>"
   ]
  },
  {
   "cell_type": "markdown",
   "metadata": {},
   "source": [
    "#  Прогнозирование заказов такси"
   ]
  },
  {
   "cell_type": "markdown",
   "metadata": {},
   "source": [
    "Компания «Чётенькое такси» собрала исторические данные о заказах такси в аэропортах. Чтобы привлекать больше водителей в период пиковой нагрузки, нужно спрогнозировать количество заказов такси на следующий час. Постройте модель для такого предсказания.\n",
    "\n",
    "Значение метрики *RMSE* на тестовой выборке должно быть не больше 48.\n",
    "\n",
    "Вам нужно:\n",
    "\n",
    "1. Загрузить данные и выполнить их ресемплирование по одному часу.\n",
    "2. Проанализировать данные.\n",
    "3. Обучить разные модели с различными гиперпараметрами. Сделать тестовую выборку размером 10% от исходных данных.\n",
    "4. Проверить данные на тестовой выборке и сделать выводы.\n",
    "\n",
    "\n",
    "Данные лежат в файле `taxi.csv`. Количество заказов находится в столбце `num_orders` (от англ. *number of orders*, «число заказов»)."
   ]
  },
  {
   "cell_type": "markdown",
   "metadata": {},
   "source": [
    "## Подготовка"
   ]
  },
  {
   "cell_type": "code",
   "execution_count": 1,
   "metadata": {},
   "outputs": [],
   "source": [
    "import pandas as pd\n",
    "import numpy as np\n",
    "import os\n",
    "from matplotlib import pyplot as plt\n",
    "from statsmodels.tsa.seasonal import seasonal_decompose\n",
    "from sklearn.model_selection import train_test_split\n",
    "from sklearn.linear_model import LinearRegression\n",
    "from sklearn.metrics import mean_squared_error\n",
    "from statsmodels.graphics import tsaplots\n",
    "from sklearn.ensemble import RandomForestRegressor\n",
    "from sklearn.model_selection import TimeSeriesSplit, cross_val_score\n",
    "from tensorflow.keras.models import Sequential\n",
    "from tensorflow.keras.layers import Dense, Dropout\n",
    "from tensorflow.keras.optimizers import Adam"
   ]
  },
  {
   "cell_type": "markdown",
   "metadata": {},
   "source": [
    "### загружаю данные"
   ]
  },
  {
   "cell_type": "code",
   "execution_count": 2,
   "metadata": {},
   "outputs": [
    {
     "name": "stdout",
     "output_type": "stream",
     "text": [
      "файл успешно загружен\n",
      "<class 'pandas.core.frame.DataFrame'>\n",
      "DatetimeIndex: 26496 entries, 2018-03-01 00:00:00 to 2018-08-31 23:50:00\n",
      "Data columns (total 1 columns):\n",
      " #   Column      Non-Null Count  Dtype\n",
      "---  ------      --------------  -----\n",
      " 0   num_orders  26496 non-null  int64\n",
      "dtypes: int64(1)\n",
      "memory usage: 414.0 KB\n",
      "None\n"
     ]
    }
   ],
   "source": [
    "pth_df = '/datasets/taxi.csv'\n",
    "\n",
    "if os.path.exists(pth_df):\n",
    "    df = pd.read_csv(pth_df, index_col=[0], parse_dates=[0])\n",
    "    print('файл успешно загружен')\n",
    "    print(df.info())\n",
    "else:\n",
    "    print('файл не загружен')"
   ]
  },
  {
   "cell_type": "markdown",
   "metadata": {},
   "source": [
    "### ресемплирую данные по 1 часу"
   ]
  },
  {
   "cell_type": "code",
   "execution_count": 3,
   "metadata": {},
   "outputs": [],
   "source": [
    "df.sort_index(inplace=True)\n",
    "df = df.resample('1H').sum()"
   ]
  },
  {
   "cell_type": "markdown",
   "metadata": {},
   "source": [
    "## Анализ"
   ]
  },
  {
   "cell_type": "code",
   "execution_count": 11,
   "metadata": {},
   "outputs": [
    {
     "data": {
      "text/html": [
       "<div>\n",
       "<style scoped>\n",
       "    .dataframe tbody tr th:only-of-type {\n",
       "        vertical-align: middle;\n",
       "    }\n",
       "\n",
       "    .dataframe tbody tr th {\n",
       "        vertical-align: top;\n",
       "    }\n",
       "\n",
       "    .dataframe thead th {\n",
       "        text-align: right;\n",
       "    }\n",
       "</style>\n",
       "<table border=\"1\" class=\"dataframe\">\n",
       "  <thead>\n",
       "    <tr style=\"text-align: right;\">\n",
       "      <th></th>\n",
       "      <th>num_orders</th>\n",
       "    </tr>\n",
       "  </thead>\n",
       "  <tbody>\n",
       "    <tr>\n",
       "      <th>count</th>\n",
       "      <td>4416.000000</td>\n",
       "    </tr>\n",
       "    <tr>\n",
       "      <th>mean</th>\n",
       "      <td>84.422781</td>\n",
       "    </tr>\n",
       "    <tr>\n",
       "      <th>std</th>\n",
       "      <td>45.023853</td>\n",
       "    </tr>\n",
       "    <tr>\n",
       "      <th>min</th>\n",
       "      <td>0.000000</td>\n",
       "    </tr>\n",
       "    <tr>\n",
       "      <th>25%</th>\n",
       "      <td>54.000000</td>\n",
       "    </tr>\n",
       "    <tr>\n",
       "      <th>50%</th>\n",
       "      <td>78.000000</td>\n",
       "    </tr>\n",
       "    <tr>\n",
       "      <th>75%</th>\n",
       "      <td>107.000000</td>\n",
       "    </tr>\n",
       "    <tr>\n",
       "      <th>max</th>\n",
       "      <td>462.000000</td>\n",
       "    </tr>\n",
       "  </tbody>\n",
       "</table>\n",
       "</div>"
      ],
      "text/plain": [
       "        num_orders\n",
       "count  4416.000000\n",
       "mean     84.422781\n",
       "std      45.023853\n",
       "min       0.000000\n",
       "25%      54.000000\n",
       "50%      78.000000\n",
       "75%     107.000000\n",
       "max     462.000000"
      ]
     },
     "execution_count": 11,
     "metadata": {},
     "output_type": "execute_result"
    }
   ],
   "source": [
    "df.describe()"
   ]
  },
  {
   "cell_type": "code",
   "execution_count": 12,
   "metadata": {},
   "outputs": [
    {
     "name": "stdout",
     "output_type": "stream",
     "text": [
      "пропуски\n",
      "\n"
     ]
    },
    {
     "data": {
      "text/plain": [
       "num_orders    0\n",
       "dtype: int64"
      ]
     },
     "execution_count": 12,
     "metadata": {},
     "output_type": "execute_result"
    }
   ],
   "source": [
    "print('пропуски\\n')\n",
    "df.isna().sum()"
   ]
  },
  {
   "cell_type": "code",
   "execution_count": 4,
   "metadata": {},
   "outputs": [
    {
     "data": {
      "image/png": "[encoded data removed]",
      "text/plain": [
       "<Figure size 1440x144 with 1 Axes>"
      ]
     },
     "metadata": {
      "needs_background": "light"
     },
     "output_type": "display_data"
    }
   ],
   "source": [
    "fig, ax = plt.subplots(figsize = (20,2))\n",
    "ax = df.boxplot(vert = False, ax =ax)\n",
    "ax.set_title(f'Диаграмма размаха значений')\n",
    "plt.yticks([1], [''])\n",
    "plt.plot();"
   ]
  },
  {
   "cell_type": "code",
   "execution_count": 5,
   "metadata": {},
   "outputs": [],
   "source": [
    "decomposed = seasonal_decompose(df['num_orders'])"
   ]
  },
  {
   "cell_type": "code",
   "execution_count": 6,
   "metadata": {},
   "outputs": [
    {
     "data": {
      "text/plain": [
       "<AxesSubplot:xlabel='datetime'>"
      ]
     },
     "execution_count": 6,
     "metadata": {},
     "output_type": "execute_result"
    },
    {
     "data": {
      "image/png": "[encoded data removed]",
      "text/plain": [
       "<Figure size 432x288 with 1 Axes>"
      ]
     },
     "metadata": {
      "needs_background": "light"
     },
     "output_type": "display_data"
    }
   ],
   "source": [
    "df['num_orders'].iloc[100:500].plot(ax=plt.gca())\n",
    "df['num_orders'].rolling(24).mean().iloc[100:500].plot(ax=plt.gca())"
   ]
  },
  {
   "cell_type": "code",
   "execution_count": 30,
   "metadata": {},
   "outputs": [
    {
     "data": {
      "image/png": "[encoded data removed]",
      "text/plain": [
       "<Figure size 1440x720 with 1 Axes>"
      ]
     },
     "metadata": {
      "needs_background": "light"
     },
     "output_type": "display_data"
    }
   ],
   "source": [
    "decomposed.trend.plot(ax=plt.gca(),figsize = (20,10))\n",
    "plt.title('график тренда');"
   ]
  },
  {
   "cell_type": "code",
   "execution_count": 7,
   "metadata": {},
   "outputs": [
    {
     "data": {
      "image/png": "[encoded data removed]",
      "text/plain": [
       "<Figure size 1440x720 with 1 Axes>"
      ]
     },
     "metadata": {
      "needs_background": "light"
     },
     "output_type": "display_data"
    }
   ],
   "source": [
    "decomposed.seasonal.plot(ax=plt.gca(),figsize = (20,10))\n",
    "plt.title('график сезонности');"
   ]
  },
  {
   "cell_type": "code",
   "execution_count": 8,
   "metadata": {},
   "outputs": [
    {
     "data": {
      "image/png": "[encoded data removed]",
      "text/plain": [
       "<Figure size 1440x720 with 1 Axes>"
      ]
     },
     "metadata": {
      "needs_background": "light"
     },
     "output_type": "display_data"
    }
   ],
   "source": [
    "decomposed.resid.plot(ax=plt.gca(),figsize = (20,10))\n",
    "plt.title('график остатка');"
   ]
  },
  {
   "cell_type": "code",
   "execution_count": 9,
   "metadata": {},
   "outputs": [
    {
     "data": {
      "text/plain": [
       "<AxesSubplot:xlabel='datetime'>"
      ]
     },
     "execution_count": 9,
     "metadata": {},
     "output_type": "execute_result"
    },
    {
     "data": {
      "image/png": "[encoded data removed]",
      "text/plain": [
       "<Figure size 1440x720 with 1 Axes>"
      ]
     },
     "metadata": {
      "needs_background": "light"
     },
     "output_type": "display_data"
    }
   ],
   "source": [
    "week = pd.read_csv(pth_df, index_col=[0], parse_dates=[0])\n",
    "week.sort_index(inplace=True)\n",
    "week = week.resample('1D').sum()\n",
    "decomposed_week = seasonal_decompose(week['num_orders'])\n",
    "decomposed_week.seasonal.iloc[0:30].plot(ax=plt.gca(),figsize = (20,10))"
   ]
  },
  {
   "cell_type": "markdown",
   "metadata": {},
   "source": [
    "загружен, ресемплирован и проанализирован временной ряд.<br>\n",
    "пропусков не обнаружено.<br>\n",
    "временной ряд декомпозирован. выведены графики тренда, сезонности и остатка. временной ряд не является 100% стационарным.<br>\n",
    "тренд не является постоянным, имеет участки мелких коррекций. так же имеет три участка с разным ускорением (март-июнь, июнь-конец июля, август)<br>\n",
    "есть сезонность как дневная, так и недельная<br>\n",
    "остатки так же неравномерны. в конце графика остатки больше, что скажется на точности модели на этапе тестирования"
   ]
  },
  {
   "cell_type": "code",
   "execution_count": 9,
   "metadata": {},
   "outputs": [
    {
     "name": "stdout",
     "output_type": "stream",
     "text": [
      "Если значение с индексом 1 меньше P-Value, заданное нами (обычно берут 0.05), то ряд стационарный\n",
      "Наш ряд стационарный\n"
     ]
    }
   ],
   "source": [
    "# код ревьювера\n",
    "from statsmodels.tsa.stattools import adfuller\n",
    "\n",
    "taxi = pd.read_csv(\"/datasets/taxi.csv\", index_col=[0], parse_dates=[0]).resample('1H').sum()\n",
    "\n",
    "ts = taxi['num_orders']\n",
    "st_test = adfuller(ts, regression='ctt')\n",
    "\n",
    "print('Если значение с индексом 1 меньше P-Value, заданное нами (обычно берут 0.05), то ряд стационарный')\n",
    "if st_test[1] < 0.05:\n",
    "    print('Наш ряд стационарный')\n",
    "else:\n",
    "    print('Ряд нестационарный')\n"
   ]
  },
  {
   "cell_type": "markdown",
   "metadata": {},
   "source": [
    "## Обучение"
   ]
  },
  {
   "cell_type": "code",
   "execution_count": 10,
   "metadata": {},
   "outputs": [
    {
     "data": {
      "text/html": [
       "<div>\n",
       "<style scoped>\n",
       "    .dataframe tbody tr th:only-of-type {\n",
       "        vertical-align: middle;\n",
       "    }\n",
       "\n",
       "    .dataframe tbody tr th {\n",
       "        vertical-align: top;\n",
       "    }\n",
       "\n",
       "    .dataframe thead th {\n",
       "        text-align: right;\n",
       "    }\n",
       "</style>\n",
       "<table border=\"1\" class=\"dataframe\">\n",
       "  <thead>\n",
       "    <tr style=\"text-align: right;\">\n",
       "      <th></th>\n",
       "      <th>num_orders</th>\n",
       "      <th>day</th>\n",
       "      <th>dayofweek</th>\n",
       "      <th>lag_1</th>\n",
       "      <th>lag_2</th>\n",
       "      <th>lag_3</th>\n",
       "      <th>lag_4</th>\n",
       "      <th>lag_5</th>\n",
       "      <th>lag_6</th>\n",
       "      <th>lag_7</th>\n",
       "      <th>...</th>\n",
       "      <th>lag_16</th>\n",
       "      <th>lag_17</th>\n",
       "      <th>lag_18</th>\n",
       "      <th>lag_19</th>\n",
       "      <th>lag_20</th>\n",
       "      <th>lag_21</th>\n",
       "      <th>lag_22</th>\n",
       "      <th>lag_23</th>\n",
       "      <th>lag_24</th>\n",
       "      <th>mean_24</th>\n",
       "    </tr>\n",
       "    <tr>\n",
       "      <th>datetime</th>\n",
       "      <th></th>\n",
       "      <th></th>\n",
       "      <th></th>\n",
       "      <th></th>\n",
       "      <th></th>\n",
       "      <th></th>\n",
       "      <th></th>\n",
       "      <th></th>\n",
       "      <th></th>\n",
       "      <th></th>\n",
       "      <th></th>\n",
       "      <th></th>\n",
       "      <th></th>\n",
       "      <th></th>\n",
       "      <th></th>\n",
       "      <th></th>\n",
       "      <th></th>\n",
       "      <th></th>\n",
       "      <th></th>\n",
       "      <th></th>\n",
       "      <th></th>\n",
       "    </tr>\n",
       "  </thead>\n",
       "  <tbody>\n",
       "    <tr>\n",
       "      <th>2018-03-01 00:00:00</th>\n",
       "      <td>124</td>\n",
       "      <td>1</td>\n",
       "      <td>3</td>\n",
       "      <td>NaN</td>\n",
       "      <td>NaN</td>\n",
       "      <td>NaN</td>\n",
       "      <td>NaN</td>\n",
       "      <td>NaN</td>\n",
       "      <td>NaN</td>\n",
       "      <td>NaN</td>\n",
       "      <td>...</td>\n",
       "      <td>NaN</td>\n",
       "      <td>NaN</td>\n",
       "      <td>NaN</td>\n",
       "      <td>NaN</td>\n",
       "      <td>NaN</td>\n",
       "      <td>NaN</td>\n",
       "      <td>NaN</td>\n",
       "      <td>NaN</td>\n",
       "      <td>NaN</td>\n",
       "      <td>NaN</td>\n",
       "    </tr>\n",
       "    <tr>\n",
       "      <th>2018-03-01 01:00:00</th>\n",
       "      <td>85</td>\n",
       "      <td>1</td>\n",
       "      <td>3</td>\n",
       "      <td>124.0</td>\n",
       "      <td>NaN</td>\n",
       "      <td>NaN</td>\n",
       "      <td>NaN</td>\n",
       "      <td>NaN</td>\n",
       "      <td>NaN</td>\n",
       "      <td>NaN</td>\n",
       "      <td>...</td>\n",
       "      <td>NaN</td>\n",
       "      <td>NaN</td>\n",
       "      <td>NaN</td>\n",
       "      <td>NaN</td>\n",
       "      <td>NaN</td>\n",
       "      <td>NaN</td>\n",
       "      <td>NaN</td>\n",
       "      <td>NaN</td>\n",
       "      <td>NaN</td>\n",
       "      <td>NaN</td>\n",
       "    </tr>\n",
       "    <tr>\n",
       "      <th>2018-03-01 02:00:00</th>\n",
       "      <td>71</td>\n",
       "      <td>1</td>\n",
       "      <td>3</td>\n",
       "      <td>85.0</td>\n",
       "      <td>124.0</td>\n",
       "      <td>NaN</td>\n",
       "      <td>NaN</td>\n",
       "      <td>NaN</td>\n",
       "      <td>NaN</td>\n",
       "      <td>NaN</td>\n",
       "      <td>...</td>\n",
       "      <td>NaN</td>\n",
       "      <td>NaN</td>\n",
       "      <td>NaN</td>\n",
       "      <td>NaN</td>\n",
       "      <td>NaN</td>\n",
       "      <td>NaN</td>\n",
       "      <td>NaN</td>\n",
       "      <td>NaN</td>\n",
       "      <td>NaN</td>\n",
       "      <td>NaN</td>\n",
       "    </tr>\n",
       "    <tr>\n",
       "      <th>2018-03-01 03:00:00</th>\n",
       "      <td>66</td>\n",
       "      <td>1</td>\n",
       "      <td>3</td>\n",
       "      <td>71.0</td>\n",
       "      <td>85.0</td>\n",
       "      <td>124.0</td>\n",
       "      <td>NaN</td>\n",
       "      <td>NaN</td>\n",
       "      <td>NaN</td>\n",
       "      <td>NaN</td>\n",
       "      <td>...</td>\n",
       "      <td>NaN</td>\n",
       "      <td>NaN</td>\n",
       "      <td>NaN</td>\n",
       "      <td>NaN</td>\n",
       "      <td>NaN</td>\n",
       "      <td>NaN</td>\n",
       "      <td>NaN</td>\n",
       "      <td>NaN</td>\n",
       "      <td>NaN</td>\n",
       "      <td>NaN</td>\n",
       "    </tr>\n",
       "    <tr>\n",
       "      <th>2018-03-01 04:00:00</th>\n",
       "      <td>43</td>\n",
       "      <td>1</td>\n",
       "      <td>3</td>\n",
       "      <td>66.0</td>\n",
       "      <td>71.0</td>\n",
       "      <td>85.0</td>\n",
       "      <td>124.0</td>\n",
       "      <td>NaN</td>\n",
       "      <td>NaN</td>\n",
       "      <td>NaN</td>\n",
       "      <td>...</td>\n",
       "      <td>NaN</td>\n",
       "      <td>NaN</td>\n",
       "      <td>NaN</td>\n",
       "      <td>NaN</td>\n",
       "      <td>NaN</td>\n",
       "      <td>NaN</td>\n",
       "      <td>NaN</td>\n",
       "      <td>NaN</td>\n",
       "      <td>NaN</td>\n",
       "      <td>NaN</td>\n",
       "    </tr>\n",
       "    <tr>\n",
       "      <th>...</th>\n",
       "      <td>...</td>\n",
       "      <td>...</td>\n",
       "      <td>...</td>\n",
       "      <td>...</td>\n",
       "      <td>...</td>\n",
       "      <td>...</td>\n",
       "      <td>...</td>\n",
       "      <td>...</td>\n",
       "      <td>...</td>\n",
       "      <td>...</td>\n",
       "      <td>...</td>\n",
       "      <td>...</td>\n",
       "      <td>...</td>\n",
       "      <td>...</td>\n",
       "      <td>...</td>\n",
       "      <td>...</td>\n",
       "      <td>...</td>\n",
       "      <td>...</td>\n",
       "      <td>...</td>\n",
       "      <td>...</td>\n",
       "      <td>...</td>\n",
       "    </tr>\n",
       "    <tr>\n",
       "      <th>2018-08-31 19:00:00</th>\n",
       "      <td>136</td>\n",
       "      <td>31</td>\n",
       "      <td>4</td>\n",
       "      <td>207.0</td>\n",
       "      <td>217.0</td>\n",
       "      <td>197.0</td>\n",
       "      <td>116.0</td>\n",
       "      <td>133.0</td>\n",
       "      <td>166.0</td>\n",
       "      <td>136.0</td>\n",
       "      <td>...</td>\n",
       "      <td>99.0</td>\n",
       "      <td>230.0</td>\n",
       "      <td>194.0</td>\n",
       "      <td>276.0</td>\n",
       "      <td>246.0</td>\n",
       "      <td>158.0</td>\n",
       "      <td>198.0</td>\n",
       "      <td>142.0</td>\n",
       "      <td>72.0</td>\n",
       "      <td>164.875000</td>\n",
       "    </tr>\n",
       "    <tr>\n",
       "      <th>2018-08-31 20:00:00</th>\n",
       "      <td>154</td>\n",
       "      <td>31</td>\n",
       "      <td>4</td>\n",
       "      <td>136.0</td>\n",
       "      <td>207.0</td>\n",
       "      <td>217.0</td>\n",
       "      <td>197.0</td>\n",
       "      <td>116.0</td>\n",
       "      <td>133.0</td>\n",
       "      <td>166.0</td>\n",
       "      <td>...</td>\n",
       "      <td>268.0</td>\n",
       "      <td>99.0</td>\n",
       "      <td>230.0</td>\n",
       "      <td>194.0</td>\n",
       "      <td>276.0</td>\n",
       "      <td>246.0</td>\n",
       "      <td>158.0</td>\n",
       "      <td>198.0</td>\n",
       "      <td>142.0</td>\n",
       "      <td>167.541667</td>\n",
       "    </tr>\n",
       "    <tr>\n",
       "      <th>2018-08-31 21:00:00</th>\n",
       "      <td>159</td>\n",
       "      <td>31</td>\n",
       "      <td>4</td>\n",
       "      <td>154.0</td>\n",
       "      <td>136.0</td>\n",
       "      <td>207.0</td>\n",
       "      <td>217.0</td>\n",
       "      <td>197.0</td>\n",
       "      <td>116.0</td>\n",
       "      <td>133.0</td>\n",
       "      <td>...</td>\n",
       "      <td>78.0</td>\n",
       "      <td>268.0</td>\n",
       "      <td>99.0</td>\n",
       "      <td>230.0</td>\n",
       "      <td>194.0</td>\n",
       "      <td>276.0</td>\n",
       "      <td>246.0</td>\n",
       "      <td>158.0</td>\n",
       "      <td>198.0</td>\n",
       "      <td>168.041667</td>\n",
       "    </tr>\n",
       "    <tr>\n",
       "      <th>2018-08-31 22:00:00</th>\n",
       "      <td>223</td>\n",
       "      <td>31</td>\n",
       "      <td>4</td>\n",
       "      <td>159.0</td>\n",
       "      <td>154.0</td>\n",
       "      <td>136.0</td>\n",
       "      <td>207.0</td>\n",
       "      <td>217.0</td>\n",
       "      <td>197.0</td>\n",
       "      <td>116.0</td>\n",
       "      <td>...</td>\n",
       "      <td>35.0</td>\n",
       "      <td>78.0</td>\n",
       "      <td>268.0</td>\n",
       "      <td>99.0</td>\n",
       "      <td>230.0</td>\n",
       "      <td>194.0</td>\n",
       "      <td>276.0</td>\n",
       "      <td>246.0</td>\n",
       "      <td>158.0</td>\n",
       "      <td>166.416667</td>\n",
       "    </tr>\n",
       "    <tr>\n",
       "      <th>2018-08-31 23:00:00</th>\n",
       "      <td>205</td>\n",
       "      <td>31</td>\n",
       "      <td>4</td>\n",
       "      <td>223.0</td>\n",
       "      <td>159.0</td>\n",
       "      <td>154.0</td>\n",
       "      <td>136.0</td>\n",
       "      <td>207.0</td>\n",
       "      <td>217.0</td>\n",
       "      <td>197.0</td>\n",
       "      <td>...</td>\n",
       "      <td>46.0</td>\n",
       "      <td>35.0</td>\n",
       "      <td>78.0</td>\n",
       "      <td>268.0</td>\n",
       "      <td>99.0</td>\n",
       "      <td>230.0</td>\n",
       "      <td>194.0</td>\n",
       "      <td>276.0</td>\n",
       "      <td>246.0</td>\n",
       "      <td>169.125000</td>\n",
       "    </tr>\n",
       "  </tbody>\n",
       "</table>\n",
       "<p>4416 rows × 28 columns</p>\n",
       "</div>"
      ],
      "text/plain": [
       "                     num_orders  day  dayofweek  lag_1  lag_2  lag_3  lag_4  \\\n",
       "datetime                                                                      \n",
       "2018-03-01 00:00:00         124    1          3    NaN    NaN    NaN    NaN   \n",
       "2018-03-01 01:00:00          85    1          3  124.0    NaN    NaN    NaN   \n",
       "2018-03-01 02:00:00          71    1          3   85.0  124.0    NaN    NaN   \n",
       "2018-03-01 03:00:00          66    1          3   71.0   85.0  124.0    NaN   \n",
       "2018-03-01 04:00:00          43    1          3   66.0   71.0   85.0  124.0   \n",
       "...                         ...  ...        ...    ...    ...    ...    ...   \n",
       "2018-08-31 19:00:00         136   31          4  207.0  217.0  197.0  116.0   \n",
       "2018-08-31 20:00:00         154   31          4  136.0  207.0  217.0  197.0   \n",
       "2018-08-31 21:00:00         159   31          4  154.0  136.0  207.0  217.0   \n",
       "2018-08-31 22:00:00         223   31          4  159.0  154.0  136.0  207.0   \n",
       "2018-08-31 23:00:00         205   31          4  223.0  159.0  154.0  136.0   \n",
       "\n",
       "                     lag_5  lag_6  lag_7  ...  lag_16  lag_17  lag_18  lag_19  \\\n",
       "datetime                                  ...                                   \n",
       "2018-03-01 00:00:00    NaN    NaN    NaN  ...     NaN     NaN     NaN     NaN   \n",
       "2018-03-01 01:00:00    NaN    NaN    NaN  ...     NaN     NaN     NaN     NaN   \n",
       "2018-03-01 02:00:00    NaN    NaN    NaN  ...     NaN     NaN     NaN     NaN   \n",
       "2018-03-01 03:00:00    NaN    NaN    NaN  ...     NaN     NaN     NaN     NaN   \n",
       "2018-03-01 04:00:00    NaN    NaN    NaN  ...     NaN     NaN     NaN     NaN   \n",
       "...                    ...    ...    ...  ...     ...     ...     ...     ...   \n",
       "2018-08-31 19:00:00  133.0  166.0  136.0  ...    99.0   230.0   194.0   276.0   \n",
       "2018-08-31 20:00:00  116.0  133.0  166.0  ...   268.0    99.0   230.0   194.0   \n",
       "2018-08-31 21:00:00  197.0  116.0  133.0  ...    78.0   268.0    99.0   230.0   \n",
       "2018-08-31 22:00:00  217.0  197.0  116.0  ...    35.0    78.0   268.0    99.0   \n",
       "2018-08-31 23:00:00  207.0  217.0  197.0  ...    46.0    35.0    78.0   268.0   \n",
       "\n",
       "                     lag_20  lag_21  lag_22  lag_23  lag_24     mean_24  \n",
       "datetime                                                                 \n",
       "2018-03-01 00:00:00     NaN     NaN     NaN     NaN     NaN         NaN  \n",
       "2018-03-01 01:00:00     NaN     NaN     NaN     NaN     NaN         NaN  \n",
       "2018-03-01 02:00:00     NaN     NaN     NaN     NaN     NaN         NaN  \n",
       "2018-03-01 03:00:00     NaN     NaN     NaN     NaN     NaN         NaN  \n",
       "2018-03-01 04:00:00     NaN     NaN     NaN     NaN     NaN         NaN  \n",
       "...                     ...     ...     ...     ...     ...         ...  \n",
       "2018-08-31 19:00:00   246.0   158.0   198.0   142.0    72.0  164.875000  \n",
       "2018-08-31 20:00:00   276.0   246.0   158.0   198.0   142.0  167.541667  \n",
       "2018-08-31 21:00:00   194.0   276.0   246.0   158.0   198.0  168.041667  \n",
       "2018-08-31 22:00:00   230.0   194.0   276.0   246.0   158.0  166.416667  \n",
       "2018-08-31 23:00:00    99.0   230.0   194.0   276.0   246.0  169.125000  \n",
       "\n",
       "[4416 rows x 28 columns]"
      ]
     },
     "execution_count": 10,
     "metadata": {},
     "output_type": "execute_result"
    }
   ],
   "source": [
    "# создаю лаги и среднее скользящее\n",
    "def make_features(data, max_lag, rolling_mean):\n",
    "    data['day'] = data.index.day\n",
    "    data['dayofweek'] = data.index.dayofweek\n",
    "    \n",
    "    for lag in range(1, max_lag + 1):\n",
    "        data[f'lag_{lag}'] = data['num_orders'].shift(lag)\n",
    "\n",
    "    data[f'mean_{rolling_mean}'] = data['num_orders'].shift().rolling(rolling_mean).mean()\n",
    "    \n",
    "    return data\n",
    "\n",
    "df = make_features(df, max_lag = 24, rolling_mean = 24)\n",
    "df"
   ]
  },
  {
   "cell_type": "code",
   "execution_count": 11,
   "metadata": {},
   "outputs": [
    {
     "data": {
      "text/html": [
       "<div>\n",
       "<style scoped>\n",
       "    .dataframe tbody tr th:only-of-type {\n",
       "        vertical-align: middle;\n",
       "    }\n",
       "\n",
       "    .dataframe tbody tr th {\n",
       "        vertical-align: top;\n",
       "    }\n",
       "\n",
       "    .dataframe thead th {\n",
       "        text-align: right;\n",
       "    }\n",
       "</style>\n",
       "<table border=\"1\" class=\"dataframe\">\n",
       "  <thead>\n",
       "    <tr style=\"text-align: right;\">\n",
       "      <th></th>\n",
       "      <th>num_orders</th>\n",
       "      <th>day</th>\n",
       "      <th>dayofweek</th>\n",
       "      <th>lag_1</th>\n",
       "      <th>lag_2</th>\n",
       "      <th>lag_3</th>\n",
       "      <th>lag_4</th>\n",
       "      <th>lag_5</th>\n",
       "      <th>lag_6</th>\n",
       "      <th>lag_7</th>\n",
       "      <th>...</th>\n",
       "      <th>lag_16</th>\n",
       "      <th>lag_17</th>\n",
       "      <th>lag_18</th>\n",
       "      <th>lag_19</th>\n",
       "      <th>lag_20</th>\n",
       "      <th>lag_21</th>\n",
       "      <th>lag_22</th>\n",
       "      <th>lag_23</th>\n",
       "      <th>lag_24</th>\n",
       "      <th>mean_24</th>\n",
       "    </tr>\n",
       "    <tr>\n",
       "      <th>datetime</th>\n",
       "      <th></th>\n",
       "      <th></th>\n",
       "      <th></th>\n",
       "      <th></th>\n",
       "      <th></th>\n",
       "      <th></th>\n",
       "      <th></th>\n",
       "      <th></th>\n",
       "      <th></th>\n",
       "      <th></th>\n",
       "      <th></th>\n",
       "      <th></th>\n",
       "      <th></th>\n",
       "      <th></th>\n",
       "      <th></th>\n",
       "      <th></th>\n",
       "      <th></th>\n",
       "      <th></th>\n",
       "      <th></th>\n",
       "      <th></th>\n",
       "      <th></th>\n",
       "    </tr>\n",
       "  </thead>\n",
       "  <tbody>\n",
       "    <tr>\n",
       "      <th>2018-03-02 00:00:00</th>\n",
       "      <td>90</td>\n",
       "      <td>2</td>\n",
       "      <td>4</td>\n",
       "      <td>58.0</td>\n",
       "      <td>113.0</td>\n",
       "      <td>66.0</td>\n",
       "      <td>61.0</td>\n",
       "      <td>45.0</td>\n",
       "      <td>73.0</td>\n",
       "      <td>44.0</td>\n",
       "      <td>...</td>\n",
       "      <td>34.0</td>\n",
       "      <td>15.0</td>\n",
       "      <td>12.0</td>\n",
       "      <td>6.0</td>\n",
       "      <td>43.0</td>\n",
       "      <td>66.0</td>\n",
       "      <td>71.0</td>\n",
       "      <td>85.0</td>\n",
       "      <td>124.0</td>\n",
       "      <td>56.833333</td>\n",
       "    </tr>\n",
       "    <tr>\n",
       "      <th>2018-03-02 01:00:00</th>\n",
       "      <td>120</td>\n",
       "      <td>2</td>\n",
       "      <td>4</td>\n",
       "      <td>90.0</td>\n",
       "      <td>58.0</td>\n",
       "      <td>113.0</td>\n",
       "      <td>66.0</td>\n",
       "      <td>61.0</td>\n",
       "      <td>45.0</td>\n",
       "      <td>73.0</td>\n",
       "      <td>...</td>\n",
       "      <td>69.0</td>\n",
       "      <td>34.0</td>\n",
       "      <td>15.0</td>\n",
       "      <td>12.0</td>\n",
       "      <td>6.0</td>\n",
       "      <td>43.0</td>\n",
       "      <td>66.0</td>\n",
       "      <td>71.0</td>\n",
       "      <td>85.0</td>\n",
       "      <td>55.416667</td>\n",
       "    </tr>\n",
       "    <tr>\n",
       "      <th>2018-03-02 02:00:00</th>\n",
       "      <td>75</td>\n",
       "      <td>2</td>\n",
       "      <td>4</td>\n",
       "      <td>120.0</td>\n",
       "      <td>90.0</td>\n",
       "      <td>58.0</td>\n",
       "      <td>113.0</td>\n",
       "      <td>66.0</td>\n",
       "      <td>61.0</td>\n",
       "      <td>45.0</td>\n",
       "      <td>...</td>\n",
       "      <td>64.0</td>\n",
       "      <td>69.0</td>\n",
       "      <td>34.0</td>\n",
       "      <td>15.0</td>\n",
       "      <td>12.0</td>\n",
       "      <td>6.0</td>\n",
       "      <td>43.0</td>\n",
       "      <td>66.0</td>\n",
       "      <td>71.0</td>\n",
       "      <td>56.875000</td>\n",
       "    </tr>\n",
       "    <tr>\n",
       "      <th>2018-03-02 03:00:00</th>\n",
       "      <td>64</td>\n",
       "      <td>2</td>\n",
       "      <td>4</td>\n",
       "      <td>75.0</td>\n",
       "      <td>120.0</td>\n",
       "      <td>90.0</td>\n",
       "      <td>58.0</td>\n",
       "      <td>113.0</td>\n",
       "      <td>66.0</td>\n",
       "      <td>61.0</td>\n",
       "      <td>...</td>\n",
       "      <td>96.0</td>\n",
       "      <td>64.0</td>\n",
       "      <td>69.0</td>\n",
       "      <td>34.0</td>\n",
       "      <td>15.0</td>\n",
       "      <td>12.0</td>\n",
       "      <td>6.0</td>\n",
       "      <td>43.0</td>\n",
       "      <td>66.0</td>\n",
       "      <td>57.041667</td>\n",
       "    </tr>\n",
       "    <tr>\n",
       "      <th>2018-03-02 04:00:00</th>\n",
       "      <td>20</td>\n",
       "      <td>2</td>\n",
       "      <td>4</td>\n",
       "      <td>64.0</td>\n",
       "      <td>75.0</td>\n",
       "      <td>120.0</td>\n",
       "      <td>90.0</td>\n",
       "      <td>58.0</td>\n",
       "      <td>113.0</td>\n",
       "      <td>66.0</td>\n",
       "      <td>...</td>\n",
       "      <td>30.0</td>\n",
       "      <td>96.0</td>\n",
       "      <td>64.0</td>\n",
       "      <td>69.0</td>\n",
       "      <td>34.0</td>\n",
       "      <td>15.0</td>\n",
       "      <td>12.0</td>\n",
       "      <td>6.0</td>\n",
       "      <td>43.0</td>\n",
       "      <td>56.958333</td>\n",
       "    </tr>\n",
       "    <tr>\n",
       "      <th>...</th>\n",
       "      <td>...</td>\n",
       "      <td>...</td>\n",
       "      <td>...</td>\n",
       "      <td>...</td>\n",
       "      <td>...</td>\n",
       "      <td>...</td>\n",
       "      <td>...</td>\n",
       "      <td>...</td>\n",
       "      <td>...</td>\n",
       "      <td>...</td>\n",
       "      <td>...</td>\n",
       "      <td>...</td>\n",
       "      <td>...</td>\n",
       "      <td>...</td>\n",
       "      <td>...</td>\n",
       "      <td>...</td>\n",
       "      <td>...</td>\n",
       "      <td>...</td>\n",
       "      <td>...</td>\n",
       "      <td>...</td>\n",
       "      <td>...</td>\n",
       "    </tr>\n",
       "    <tr>\n",
       "      <th>2018-08-31 19:00:00</th>\n",
       "      <td>136</td>\n",
       "      <td>31</td>\n",
       "      <td>4</td>\n",
       "      <td>207.0</td>\n",
       "      <td>217.0</td>\n",
       "      <td>197.0</td>\n",
       "      <td>116.0</td>\n",
       "      <td>133.0</td>\n",
       "      <td>166.0</td>\n",
       "      <td>136.0</td>\n",
       "      <td>...</td>\n",
       "      <td>99.0</td>\n",
       "      <td>230.0</td>\n",
       "      <td>194.0</td>\n",
       "      <td>276.0</td>\n",
       "      <td>246.0</td>\n",
       "      <td>158.0</td>\n",
       "      <td>198.0</td>\n",
       "      <td>142.0</td>\n",
       "      <td>72.0</td>\n",
       "      <td>164.875000</td>\n",
       "    </tr>\n",
       "    <tr>\n",
       "      <th>2018-08-31 20:00:00</th>\n",
       "      <td>154</td>\n",
       "      <td>31</td>\n",
       "      <td>4</td>\n",
       "      <td>136.0</td>\n",
       "      <td>207.0</td>\n",
       "      <td>217.0</td>\n",
       "      <td>197.0</td>\n",
       "      <td>116.0</td>\n",
       "      <td>133.0</td>\n",
       "      <td>166.0</td>\n",
       "      <td>...</td>\n",
       "      <td>268.0</td>\n",
       "      <td>99.0</td>\n",
       "      <td>230.0</td>\n",
       "      <td>194.0</td>\n",
       "      <td>276.0</td>\n",
       "      <td>246.0</td>\n",
       "      <td>158.0</td>\n",
       "      <td>198.0</td>\n",
       "      <td>142.0</td>\n",
       "      <td>167.541667</td>\n",
       "    </tr>\n",
       "    <tr>\n",
       "      <th>2018-08-31 21:00:00</th>\n",
       "      <td>159</td>\n",
       "      <td>31</td>\n",
       "      <td>4</td>\n",
       "      <td>154.0</td>\n",
       "      <td>136.0</td>\n",
       "      <td>207.0</td>\n",
       "      <td>217.0</td>\n",
       "      <td>197.0</td>\n",
       "      <td>116.0</td>\n",
       "      <td>133.0</td>\n",
       "      <td>...</td>\n",
       "      <td>78.0</td>\n",
       "      <td>268.0</td>\n",
       "      <td>99.0</td>\n",
       "      <td>230.0</td>\n",
       "      <td>194.0</td>\n",
       "      <td>276.0</td>\n",
       "      <td>246.0</td>\n",
       "      <td>158.0</td>\n",
       "      <td>198.0</td>\n",
       "      <td>168.041667</td>\n",
       "    </tr>\n",
       "    <tr>\n",
       "      <th>2018-08-31 22:00:00</th>\n",
       "      <td>223</td>\n",
       "      <td>31</td>\n",
       "      <td>4</td>\n",
       "      <td>159.0</td>\n",
       "      <td>154.0</td>\n",
       "      <td>136.0</td>\n",
       "      <td>207.0</td>\n",
       "      <td>217.0</td>\n",
       "      <td>197.0</td>\n",
       "      <td>116.0</td>\n",
       "      <td>...</td>\n",
       "      <td>35.0</td>\n",
       "      <td>78.0</td>\n",
       "      <td>268.0</td>\n",
       "      <td>99.0</td>\n",
       "      <td>230.0</td>\n",
       "      <td>194.0</td>\n",
       "      <td>276.0</td>\n",
       "      <td>246.0</td>\n",
       "      <td>158.0</td>\n",
       "      <td>166.416667</td>\n",
       "    </tr>\n",
       "    <tr>\n",
       "      <th>2018-08-31 23:00:00</th>\n",
       "      <td>205</td>\n",
       "      <td>31</td>\n",
       "      <td>4</td>\n",
       "      <td>223.0</td>\n",
       "      <td>159.0</td>\n",
       "      <td>154.0</td>\n",
       "      <td>136.0</td>\n",
       "      <td>207.0</td>\n",
       "      <td>217.0</td>\n",
       "      <td>197.0</td>\n",
       "      <td>...</td>\n",
       "      <td>46.0</td>\n",
       "      <td>35.0</td>\n",
       "      <td>78.0</td>\n",
       "      <td>268.0</td>\n",
       "      <td>99.0</td>\n",
       "      <td>230.0</td>\n",
       "      <td>194.0</td>\n",
       "      <td>276.0</td>\n",
       "      <td>246.0</td>\n",
       "      <td>169.125000</td>\n",
       "    </tr>\n",
       "  </tbody>\n",
       "</table>\n",
       "<p>4392 rows × 28 columns</p>\n",
       "</div>"
      ],
      "text/plain": [
       "                     num_orders  day  dayofweek  lag_1  lag_2  lag_3  lag_4  \\\n",
       "datetime                                                                      \n",
       "2018-03-02 00:00:00          90    2          4   58.0  113.0   66.0   61.0   \n",
       "2018-03-02 01:00:00         120    2          4   90.0   58.0  113.0   66.0   \n",
       "2018-03-02 02:00:00          75    2          4  120.0   90.0   58.0  113.0   \n",
       "2018-03-02 03:00:00          64    2          4   75.0  120.0   90.0   58.0   \n",
       "2018-03-02 04:00:00          20    2          4   64.0   75.0  120.0   90.0   \n",
       "...                         ...  ...        ...    ...    ...    ...    ...   \n",
       "2018-08-31 19:00:00         136   31          4  207.0  217.0  197.0  116.0   \n",
       "2018-08-31 20:00:00         154   31          4  136.0  207.0  217.0  197.0   \n",
       "2018-08-31 21:00:00         159   31          4  154.0  136.0  207.0  217.0   \n",
       "2018-08-31 22:00:00         223   31          4  159.0  154.0  136.0  207.0   \n",
       "2018-08-31 23:00:00         205   31          4  223.0  159.0  154.0  136.0   \n",
       "\n",
       "                     lag_5  lag_6  lag_7  ...  lag_16  lag_17  lag_18  lag_19  \\\n",
       "datetime                                  ...                                   \n",
       "2018-03-02 00:00:00   45.0   73.0   44.0  ...    34.0    15.0    12.0     6.0   \n",
       "2018-03-02 01:00:00   61.0   45.0   73.0  ...    69.0    34.0    15.0    12.0   \n",
       "2018-03-02 02:00:00   66.0   61.0   45.0  ...    64.0    69.0    34.0    15.0   \n",
       "2018-03-02 03:00:00  113.0   66.0   61.0  ...    96.0    64.0    69.0    34.0   \n",
       "2018-03-02 04:00:00   58.0  113.0   66.0  ...    30.0    96.0    64.0    69.0   \n",
       "...                    ...    ...    ...  ...     ...     ...     ...     ...   \n",
       "2018-08-31 19:00:00  133.0  166.0  136.0  ...    99.0   230.0   194.0   276.0   \n",
       "2018-08-31 20:00:00  116.0  133.0  166.0  ...   268.0    99.0   230.0   194.0   \n",
       "2018-08-31 21:00:00  197.0  116.0  133.0  ...    78.0   268.0    99.0   230.0   \n",
       "2018-08-31 22:00:00  217.0  197.0  116.0  ...    35.0    78.0   268.0    99.0   \n",
       "2018-08-31 23:00:00  207.0  217.0  197.0  ...    46.0    35.0    78.0   268.0   \n",
       "\n",
       "                     lag_20  lag_21  lag_22  lag_23  lag_24     mean_24  \n",
       "datetime                                                                 \n",
       "2018-03-02 00:00:00    43.0    66.0    71.0    85.0   124.0   56.833333  \n",
       "2018-03-02 01:00:00     6.0    43.0    66.0    71.0    85.0   55.416667  \n",
       "2018-03-02 02:00:00    12.0     6.0    43.0    66.0    71.0   56.875000  \n",
       "2018-03-02 03:00:00    15.0    12.0     6.0    43.0    66.0   57.041667  \n",
       "2018-03-02 04:00:00    34.0    15.0    12.0     6.0    43.0   56.958333  \n",
       "...                     ...     ...     ...     ...     ...         ...  \n",
       "2018-08-31 19:00:00   246.0   158.0   198.0   142.0    72.0  164.875000  \n",
       "2018-08-31 20:00:00   276.0   246.0   158.0   198.0   142.0  167.541667  \n",
       "2018-08-31 21:00:00   194.0   276.0   246.0   158.0   198.0  168.041667  \n",
       "2018-08-31 22:00:00   230.0   194.0   276.0   246.0   158.0  166.416667  \n",
       "2018-08-31 23:00:00    99.0   230.0   194.0   276.0   246.0  169.125000  \n",
       "\n",
       "[4392 rows x 28 columns]"
      ]
     },
     "execution_count": 11,
     "metadata": {},
     "output_type": "execute_result"
    }
   ],
   "source": [
    "df = df.dropna()\n",
    "df"
   ]
  },
  {
   "cell_type": "code",
   "execution_count": 12,
   "metadata": {},
   "outputs": [
    {
     "name": "stderr",
     "output_type": "stream",
     "text": [
      "/tmp/ipykernel_31/3365998005.py:2: SettingWithCopyWarning: \n",
      "A value is trying to be set on a copy of a slice from a DataFrame.\n",
      "Try using .loc[row_indexer,col_indexer] = value instead\n",
      "\n",
      "See the caveats in the documentation: https://pandas.pydata.org/pandas-docs/stable/user_guide/indexing.html#returning-a-view-versus-a-copy\n",
      "  df['target'] = df['num_orders'].shift(-1)\n"
     ]
    }
   ],
   "source": [
    "# целевой столбец- значение num_orders следующего часа\n",
    "df['target'] = df['num_orders'].shift(-1)\n",
    "df = df.dropna()"
   ]
  },
  {
   "cell_type": "code",
   "execution_count": 11,
   "metadata": {},
   "outputs": [
    {
     "name": "stdout",
     "output_type": "stream",
     "text": [
      "t-1=lag_1= 58.0\n",
      "t= 90\n",
      "t+1=target= 120.0\n"
     ]
    }
   ],
   "source": [
    "print('t-1=lag_1=',df['lag_1'].iloc[0])\n",
    "print('t=',df['num_orders'].iloc[0])\n",
    "print('t+1=target=',df['target'].iloc[0])"
   ]
  },
  {
   "cell_type": "code",
   "execution_count": 14,
   "metadata": {},
   "outputs": [],
   "source": [
    "train, test = train_test_split(df, shuffle=False, test_size=0.1)"
   ]
  },
  {
   "cell_type": "code",
   "execution_count": 15,
   "metadata": {},
   "outputs": [
    {
     "name": "stdout",
     "output_type": "stream",
     "text": [
      "0\n",
      "0\n"
     ]
    }
   ],
   "source": [
    "print(train.isna().sum().sum())\n",
    "print(test.isna().sum().sum())"
   ]
  },
  {
   "cell_type": "code",
   "execution_count": 16,
   "metadata": {},
   "outputs": [],
   "source": [
    "x_train = train.drop('num_orders', axis=1)\n",
    "y_train = train['num_orders']\n",
    "\n",
    "x_test = test.drop('num_orders', axis=1)\n",
    "y_test = test['num_orders']"
   ]
  },
  {
   "cell_type": "code",
   "execution_count": 17,
   "metadata": {},
   "outputs": [
    {
     "name": "stdout",
     "output_type": "stream",
     "text": [
      "RMSE линейной регрессии: 26.83\n"
     ]
    }
   ],
   "source": [
    "cv = TimeSeriesSplit(n_splits=3).split(x_train)\n",
    "model_lr = LinearRegression() \n",
    "score_lr = cross_val_score(model_lr, x_train, y_train, scoring='neg_mean_squared_error', cv=cv)\n",
    "\n",
    "print(\"RMSE линейной регрессии:\", round(np.mean(-score_lr)**0.5, 2))"
   ]
  },
  {
   "cell_type": "code",
   "execution_count": 79,
   "metadata": {},
   "outputs": [
    {
     "name": "stdout",
     "output_type": "stream",
     "text": [
      "10\n",
      "12\n",
      "14\n",
      "16\n",
      "18\n",
      "20\n",
      "22\n",
      "24\n",
      "26\n",
      "28\n",
      "RMSE наилучшей модели случайного леса: 27.21\n",
      "величина n_estimators: 26  ,  max_depth: 14\n"
     ]
    }
   ],
   "source": [
    "best_model_rf = None\n",
    "best_result_rf = 100\n",
    "best_est_rf = 0\n",
    "best_depth_rf = 0\n",
    "for est in range(10, 30, 2):\n",
    "    print(est)\n",
    "    for depth in range(10, 20, 2):\n",
    "        model_rf = RandomForestRegressor(n_estimators=est, max_depth = depth)\n",
    "        cv = TimeSeriesSplit(n_splits=3).split(x_train)\n",
    "        score_rf = cross_val_score(model_rf, x_train, y_train, scoring='neg_mean_squared_error', cv=cv)\n",
    "        result = round(np.mean(-score_rf)**0.5, 2)\n",
    "        if result < best_result_rf:\n",
    "            best_model_rf = model_rf\n",
    "            best_result_rf = result\n",
    "            best_est_rf = est\n",
    "            best_depth_rf = depth\n",
    "\n",
    "print(\"RMSE наилучшей модели случайного леса:\", best_result_rf)\n",
    "print('величина n_estimators:', best_est_rf, ' ,  max_depth:', best_depth_rf)"
   ]
  },
  {
   "cell_type": "code",
   "execution_count": 81,
   "metadata": {
    "collapsed": true
   },
   "outputs": [
    {
     "name": "stdout",
     "output_type": "stream",
     "text": [
      "Epoch 1/40\n",
      "124/124 [==============================] - 1s 3ms/step - loss: 10539.0410 - accuracy: 7.5930e-04\n",
      "Epoch 2/40\n",
      "124/124 [==============================] - 0s 4ms/step - loss: 888.0660 - accuracy: 7.5930e-04\n",
      "Epoch 3/40\n",
      "124/124 [==============================] - 0s 3ms/step - loss: 731.5264 - accuracy: 7.5930e-04\n",
      "Epoch 4/40\n",
      "124/124 [==============================] - 0s 3ms/step - loss: 700.9958 - accuracy: 7.5930e-04\n",
      "Epoch 5/40\n",
      "124/124 [==============================] - 0s 3ms/step - loss: 663.1763 - accuracy: 7.5930e-04\n",
      "Epoch 6/40\n",
      "124/124 [==============================] - 0s 3ms/step - loss: 693.4347 - accuracy: 7.5930e-04\n",
      "Epoch 7/40\n",
      "124/124 [==============================] - 0s 3ms/step - loss: 703.3792 - accuracy: 7.5930e-04\n",
      "Epoch 8/40\n",
      "124/124 [==============================] - 0s 3ms/step - loss: 682.9030 - accuracy: 7.5930e-04\n",
      "Epoch 9/40\n",
      "124/124 [==============================] - 0s 3ms/step - loss: 667.2316 - accuracy: 7.5930e-04\n",
      "Epoch 10/40\n",
      "124/124 [==============================] - 0s 3ms/step - loss: 681.7360 - accuracy: 7.5930e-04\n",
      "Epoch 11/40\n",
      "124/124 [==============================] - 0s 3ms/step - loss: 698.6613 - accuracy: 7.5930e-04\n",
      "Epoch 12/40\n",
      "124/124 [==============================] - 0s 4ms/step - loss: 700.4470 - accuracy: 7.5930e-04\n",
      "Epoch 13/40\n",
      "124/124 [==============================] - 0s 3ms/step - loss: 706.3129 - accuracy: 7.5930e-04\n",
      "Epoch 14/40\n",
      "124/124 [==============================] - 0s 3ms/step - loss: 674.9288 - accuracy: 7.5930e-04\n",
      "Epoch 15/40\n",
      "124/124 [==============================] - 0s 3ms/step - loss: 680.8030 - accuracy: 7.5930e-04\n",
      "Epoch 16/40\n",
      "124/124 [==============================] - 0s 3ms/step - loss: 672.1495 - accuracy: 7.5930e-04\n",
      "Epoch 17/40\n",
      "124/124 [==============================] - 0s 3ms/step - loss: 682.6071 - accuracy: 7.5930e-04\n",
      "Epoch 18/40\n",
      "124/124 [==============================] - 0s 3ms/step - loss: 688.8213 - accuracy: 7.5930e-04\n",
      "Epoch 19/40\n",
      "124/124 [==============================] - 0s 3ms/step - loss: 686.3875 - accuracy: 7.5930e-04\n",
      "Epoch 20/40\n",
      "124/124 [==============================] - 0s 3ms/step - loss: 673.9569 - accuracy: 7.5930e-04\n",
      "Epoch 21/40\n",
      "124/124 [==============================] - 0s 3ms/step - loss: 685.6580 - accuracy: 7.5930e-04\n",
      "Epoch 22/40\n",
      "124/124 [==============================] - 0s 3ms/step - loss: 702.7281 - accuracy: 7.5930e-04\n",
      "Epoch 23/40\n",
      "124/124 [==============================] - 0s 3ms/step - loss: 679.7661 - accuracy: 7.5930e-04\n",
      "Epoch 24/40\n",
      "124/124 [==============================] - 0s 3ms/step - loss: 721.3138 - accuracy: 7.5930e-04\n",
      "Epoch 25/40\n",
      "124/124 [==============================] - 0s 3ms/step - loss: 663.4828 - accuracy: 7.5930e-04\n",
      "Epoch 26/40\n",
      "124/124 [==============================] - 0s 3ms/step - loss: 692.1158 - accuracy: 7.5930e-04\n",
      "Epoch 27/40\n",
      "124/124 [==============================] - 0s 3ms/step - loss: 698.4811 - accuracy: 7.5930e-04\n",
      "Epoch 28/40\n",
      "124/124 [==============================] - 0s 3ms/step - loss: 726.8797 - accuracy: 7.5930e-04\n",
      "Epoch 29/40\n",
      "124/124 [==============================] - 0s 4ms/step - loss: 706.8311 - accuracy: 7.5930e-04\n",
      "Epoch 30/40\n",
      "124/124 [==============================] - 0s 3ms/step - loss: 680.6234 - accuracy: 7.5930e-04\n",
      "Epoch 31/40\n",
      "124/124 [==============================] - 0s 3ms/step - loss: 710.9607 - accuracy: 7.5930e-04\n",
      "Epoch 32/40\n",
      "124/124 [==============================] - 0s 3ms/step - loss: 729.1347 - accuracy: 7.5930e-04\n",
      "Epoch 33/40\n",
      "124/124 [==============================] - 0s 3ms/step - loss: 707.0665 - accuracy: 7.5930e-04\n",
      "Epoch 34/40\n",
      "124/124 [==============================] - 0s 3ms/step - loss: 702.0061 - accuracy: 7.5930e-04\n",
      "Epoch 35/40\n",
      "124/124 [==============================] - 0s 3ms/step - loss: 722.6827 - accuracy: 7.5930e-04\n",
      "Epoch 36/40\n",
      "124/124 [==============================] - 0s 3ms/step - loss: 764.4613 - accuracy: 7.5930e-04\n",
      "Epoch 37/40\n",
      "124/124 [==============================] - 0s 3ms/step - loss: 699.2397 - accuracy: 7.5930e-04\n",
      "Epoch 38/40\n",
      "124/124 [==============================] - 0s 3ms/step - loss: 733.5682 - accuracy: 7.5930e-04\n",
      "Epoch 39/40\n",
      "124/124 [==============================] - 0s 3ms/step - loss: 759.2347 - accuracy: 7.5930e-04\n",
      "Epoch 40/40\n",
      "124/124 [==============================] - 0s 3ms/step - loss: 721.7797 - accuracy: 7.5930e-04\n",
      "RMSE:  28\n"
     ]
    }
   ],
   "source": [
    "# ну и так, просто для смеха. кроссвалидацию сдесь не делал- не умею. да почти ничего здесь не умею)\n",
    "\n",
    "model = Sequential()\n",
    "model.add(Dense(10, activation='linear'))\n",
    "model.add(Dense(10, activation='linear'))\n",
    "model.add(Dense(10, activation='linear'))\n",
    "model.add(Dense(1, activation='linear'))\n",
    "model.compile(\n",
    "    loss='MeanSquaredError'\n",
    "    , optimizer=Adam(learning_rate=0.07)\n",
    "    \n",
    "    , metrics=['accuracy']\n",
    ")\n",
    "model.fit(\n",
    "    x_train\n",
    "    , y_train\n",
    "    , epochs=40\n",
    "    , verbose=1\n",
    ")\n",
    "\n",
    "rmse_model = round(mean_squared_error(y_train, model.predict(x_train)) ** .5)\n",
    "print('RMSE: ',rmse_model)\n"
   ]
  },
  {
   "cell_type": "markdown",
   "metadata": {},
   "source": [
    "## Тестирование"
   ]
  },
  {
   "cell_type": "code",
   "execution_count": 90,
   "metadata": {},
   "outputs": [
    {
     "name": "stdout",
     "output_type": "stream",
     "text": [
      "RMSE LinearRegression на тестовой выборке: 43.51752545213749\n",
      "RMSE RandomForestRegressor на тестовой выборке: 44.02935584031145\n",
      "RMSE Dense_sequential_model на тестовой выборке: 45.60617634812918\n"
     ]
    }
   ],
   "source": [
    "model_lr.fit(x_train, y_train)\n",
    "best_model_rf.fit(x_train, y_train)\n",
    "model.fit(x_train, y_train,epochs=30,verbose=0)\n",
    "print(\"RMSE LinearRegression на тестовой выборке:\", mean_squared_error(y_test, model_lr.predict(x_test)) ** .5)\n",
    "print(\"RMSE RandomForestRegressor на тестовой выборке:\", mean_squared_error(y_test, best_model_rf.predict(x_test)) ** .5)\n",
    "print(\"RMSE Dense_sequential_model на тестовой выборке:\", mean_squared_error(y_test, model.predict(x_test)) ** .5)"
   ]
  },
  {
   "cell_type": "code",
   "execution_count": 91,
   "metadata": {},
   "outputs": [
    {
     "name": "stdout",
     "output_type": "stream",
     "text": [
      "RMSE тестовой выборки: 58.97828953406191\n"
     ]
    }
   ],
   "source": [
    "pred_previous = test['num_orders'].shift()\n",
    "pred_previous.iloc[0] = train['num_orders'].iloc[-1]\n",
    "print(\"RMSE тестовой выборки:\", mean_squared_error(y_test, pred_previous) ** .5)"
   ]
  },
  {
   "cell_type": "markdown",
   "metadata": {},
   "source": [
    "<b>вывод:</b><br>\n",
    "загружен, ресемплирован и проанализирован временной ряд.<br>\n",
    "временной ряд декомпозирован. выведены графики тренда, сезонности и остатка. временной ряд не является 100% стационарным.<br>\n",
    "тренд не является постоянным, имеет участки мелких коррекций. так же имеет три участка с разным ускорением<br>\n",
    "есть сезонность как дневная, так и недельная<br>\n",
    "остатки так же неравномерны. в конце графика остатки больше, что мешает тестированию модели<br>\n",
    "обучены три модели: LinearRegression, RandomForestRegressor и Dense_sequential_model<br>\n",
    "результаты сравнивались с константной моделью (предсказание по предыдущему значению). все три модели показали результат лучше.\n",
    "наилучший результат показывает модель LinearRegression.<br>\n",
    "RMSE= 43.5 что является лучшим результатом из представленных моделей и удовлетворяет условиям задачи"
   ]
  }
 ],
 "metadata": {
  "ExecuteTimeLog": [
   {
    "duration": 55,
    "start_time": "2023-08-11T16:04:25.362Z"
   },
   {
    "duration": 402,
    "start_time": "2023-08-11T16:04:44.730Z"
   },
   {
    "duration": 126,
    "start_time": "2023-08-11T16:04:49.552Z"
   },
   {
    "duration": 1427,
    "start_time": "2023-08-11T16:06:02.940Z"
   },
   {
    "duration": 5,
    "start_time": "2023-08-11T16:06:13.253Z"
   },
   {
    "duration": 1311,
    "start_time": "2023-08-11T16:06:18.562Z"
   },
   {
    "duration": 4,
    "start_time": "2023-08-11T16:06:26.600Z"
   },
   {
    "duration": 6,
    "start_time": "2023-08-11T16:06:37.781Z"
   },
   {
    "duration": 9,
    "start_time": "2023-08-11T16:06:42.459Z"
   },
   {
    "duration": 1434,
    "start_time": "2023-08-11T16:06:56.768Z"
   },
   {
    "duration": 53,
    "start_time": "2023-08-11T16:07:07.783Z"
   },
   {
    "duration": 1332,
    "start_time": "2023-08-11T16:07:23.885Z"
   },
   {
    "duration": 4,
    "start_time": "2023-08-11T16:07:43.668Z"
   },
   {
    "duration": 52,
    "start_time": "2023-08-11T16:07:55.593Z"
   },
   {
    "duration": 5,
    "start_time": "2023-08-11T16:08:00.518Z"
   },
   {
    "duration": 9,
    "start_time": "2023-08-11T16:08:08.512Z"
   },
   {
    "duration": 10,
    "start_time": "2023-08-11T16:08:13.479Z"
   },
   {
    "duration": 11,
    "start_time": "2023-08-11T16:08:16.354Z"
   },
   {
    "duration": 8,
    "start_time": "2023-08-11T16:08:25.928Z"
   },
   {
    "duration": 8,
    "start_time": "2023-08-11T16:08:38.477Z"
   },
   {
    "duration": 7,
    "start_time": "2023-08-11T16:08:43.842Z"
   },
   {
    "duration": 53,
    "start_time": "2023-08-11T16:09:20.289Z"
   },
   {
    "duration": 10,
    "start_time": "2023-08-11T16:09:28.002Z"
   },
   {
    "duration": 6,
    "start_time": "2023-08-11T16:09:35.073Z"
   },
   {
    "duration": 6,
    "start_time": "2023-08-11T16:09:54.599Z"
   },
   {
    "duration": 6,
    "start_time": "2023-08-11T16:10:04.825Z"
   },
   {
    "duration": 50,
    "start_time": "2023-08-11T16:10:33.577Z"
   },
   {
    "duration": 8,
    "start_time": "2023-08-11T16:11:02.792Z"
   },
   {
    "duration": 9,
    "start_time": "2023-08-11T16:11:21.158Z"
   },
   {
    "duration": 11,
    "start_time": "2023-08-11T16:12:21.832Z"
   },
   {
    "duration": 446,
    "start_time": "2023-08-11T17:30:43.938Z"
   },
   {
    "duration": 324,
    "start_time": "2023-08-11T17:30:46.904Z"
   },
   {
    "duration": 19,
    "start_time": "2023-08-11T17:30:53.512Z"
   },
   {
    "duration": 8,
    "start_time": "2023-08-11T17:31:34.701Z"
   },
   {
    "duration": 72,
    "start_time": "2023-08-11T17:32:22.409Z"
   },
   {
    "duration": 438,
    "start_time": "2023-08-11T17:32:46.778Z"
   },
   {
    "duration": 162,
    "start_time": "2023-08-11T17:32:51.951Z"
   },
   {
    "duration": 142,
    "start_time": "2023-08-11T17:33:06.902Z"
   },
   {
    "duration": 130,
    "start_time": "2023-08-11T17:33:17.981Z"
   },
   {
    "duration": 17,
    "start_time": "2023-08-11T17:37:18.211Z"
   },
   {
    "duration": 9,
    "start_time": "2023-08-11T17:37:24.938Z"
   },
   {
    "duration": 10,
    "start_time": "2023-08-11T17:37:45.857Z"
   },
   {
    "duration": 13,
    "start_time": "2023-08-11T17:37:57.388Z"
   },
   {
    "duration": 7,
    "start_time": "2023-08-11T17:38:00.929Z"
   },
   {
    "duration": 147,
    "start_time": "2023-08-11T17:38:02.148Z"
   },
   {
    "duration": 9,
    "start_time": "2023-08-11T17:38:28.615Z"
   },
   {
    "duration": 76,
    "start_time": "2023-08-11T17:38:33.324Z"
   },
   {
    "duration": 21,
    "start_time": "2023-08-11T17:38:36.058Z"
   },
   {
    "duration": 8,
    "start_time": "2023-08-11T17:38:40.804Z"
   },
   {
    "duration": 54,
    "start_time": "2023-08-11T17:38:43.192Z"
   },
   {
    "duration": 10,
    "start_time": "2023-08-11T17:38:45.283Z"
   },
   {
    "duration": 32,
    "start_time": "2023-08-11T17:38:49.953Z"
   },
   {
    "duration": 10,
    "start_time": "2023-08-11T17:38:51.954Z"
   },
   {
    "duration": 210,
    "start_time": "2023-08-11T17:38:54.492Z"
   },
   {
    "duration": 13,
    "start_time": "2023-08-11T17:40:23.492Z"
   },
   {
    "duration": 7,
    "start_time": "2023-08-11T17:40:47.714Z"
   },
   {
    "duration": 25,
    "start_time": "2023-08-11T17:41:05.054Z"
   },
   {
    "duration": 77,
    "start_time": "2023-08-11T17:41:26.347Z"
   },
   {
    "duration": 13,
    "start_time": "2023-08-11T17:41:28.870Z"
   },
   {
    "duration": 15,
    "start_time": "2023-08-11T17:41:30.023Z"
   },
   {
    "duration": 10,
    "start_time": "2023-08-11T17:41:33.278Z"
   },
   {
    "duration": 112,
    "start_time": "2023-08-11T17:41:34.493Z"
   },
   {
    "duration": 12,
    "start_time": "2023-08-11T17:41:47.094Z"
   },
   {
    "duration": 53,
    "start_time": "2023-08-11T17:41:59.492Z"
   },
   {
    "duration": 7,
    "start_time": "2023-08-11T17:42:01.009Z"
   },
   {
    "duration": 13,
    "start_time": "2023-08-11T17:42:02.524Z"
   },
   {
    "duration": 116,
    "start_time": "2023-08-11T17:42:05.036Z"
   },
   {
    "duration": 13,
    "start_time": "2023-08-11T17:42:06.600Z"
   },
   {
    "duration": 456,
    "start_time": "2023-08-11T17:42:58.780Z"
   },
   {
    "duration": 55,
    "start_time": "2023-08-11T17:43:27.949Z"
   },
   {
    "duration": 9,
    "start_time": "2023-08-11T17:43:48.788Z"
   },
   {
    "duration": 8,
    "start_time": "2023-08-11T17:43:52.186Z"
   },
   {
    "duration": 311,
    "start_time": "2023-08-11T17:44:39.358Z"
   },
   {
    "duration": 334,
    "start_time": "2023-08-11T17:45:17.907Z"
   },
   {
    "duration": 160,
    "start_time": "2023-08-11T17:45:33.473Z"
   },
   {
    "duration": 268,
    "start_time": "2023-08-11T17:45:49.428Z"
   },
   {
    "duration": 264,
    "start_time": "2023-08-11T17:46:16.658Z"
   },
   {
    "duration": 270,
    "start_time": "2023-08-11T17:46:21.624Z"
   },
   {
    "duration": 256,
    "start_time": "2023-08-11T17:47:12.353Z"
   },
   {
    "duration": 175,
    "start_time": "2023-08-11T17:47:30.774Z"
   },
   {
    "duration": 161,
    "start_time": "2023-08-11T17:47:49.020Z"
   },
   {
    "duration": 243,
    "start_time": "2023-08-11T17:48:31.013Z"
   },
   {
    "duration": 315,
    "start_time": "2023-08-11T17:48:39.504Z"
   },
   {
    "duration": 295,
    "start_time": "2023-08-11T17:48:48.191Z"
   },
   {
    "duration": 20,
    "start_time": "2023-08-11T17:51:37.110Z"
   },
   {
    "duration": 26,
    "start_time": "2023-08-11T17:52:08.660Z"
   },
   {
    "duration": 259,
    "start_time": "2023-08-11T17:52:30.542Z"
   },
   {
    "duration": 1248,
    "start_time": "2023-08-12T13:05:30.917Z"
   },
   {
    "duration": 126,
    "start_time": "2023-08-12T13:05:35.123Z"
   },
   {
    "duration": 8,
    "start_time": "2023-08-12T13:05:36.920Z"
   },
   {
    "duration": 16,
    "start_time": "2023-08-12T13:05:38.178Z"
   },
   {
    "duration": 5,
    "start_time": "2023-08-12T13:05:40.527Z"
   },
   {
    "duration": 97,
    "start_time": "2023-08-12T13:05:42.020Z"
   },
   {
    "duration": 15,
    "start_time": "2023-08-12T13:05:44.069Z"
   },
   {
    "duration": 5,
    "start_time": "2023-08-12T13:05:48.416Z"
   },
   {
    "duration": 171,
    "start_time": "2023-08-12T13:05:49.329Z"
   },
   {
    "duration": 137,
    "start_time": "2023-08-12T13:05:54.606Z"
   },
   {
    "duration": 158,
    "start_time": "2023-08-12T13:05:56.721Z"
   },
   {
    "duration": 153,
    "start_time": "2023-08-12T13:05:59.171Z"
   },
   {
    "duration": 182,
    "start_time": "2023-08-12T13:06:07.167Z"
   },
   {
    "duration": 12,
    "start_time": "2023-08-12T13:15:49.805Z"
   },
   {
    "duration": 12,
    "start_time": "2023-08-12T13:16:01.465Z"
   },
   {
    "duration": 322,
    "start_time": "2023-08-12T13:19:33.843Z"
   },
   {
    "duration": 15,
    "start_time": "2023-08-12T13:20:32.131Z"
   },
   {
    "duration": 102,
    "start_time": "2023-08-12T13:26:59.506Z"
   },
   {
    "duration": 1414,
    "start_time": "2023-08-12T13:27:09.398Z"
   },
   {
    "duration": 8,
    "start_time": "2023-08-12T13:27:30.831Z"
   },
   {
    "duration": 7,
    "start_time": "2023-08-12T13:27:41.408Z"
   },
   {
    "duration": 2,
    "start_time": "2023-08-12T13:28:00.430Z"
   },
   {
    "duration": 8,
    "start_time": "2023-08-12T13:28:27.477Z"
   },
   {
    "duration": 8,
    "start_time": "2023-08-12T13:28:50.083Z"
   },
   {
    "duration": 17,
    "start_time": "2023-08-12T13:28:57.160Z"
   },
   {
    "duration": 22,
    "start_time": "2023-08-12T13:29:10.982Z"
   },
   {
    "duration": 32,
    "start_time": "2023-08-12T13:31:03.623Z"
   },
   {
    "duration": 25,
    "start_time": "2023-08-12T13:32:32.742Z"
   },
   {
    "duration": 24,
    "start_time": "2023-08-12T13:36:08.329Z"
   },
   {
    "duration": 5,
    "start_time": "2023-08-12T13:36:26.707Z"
   },
   {
    "duration": 18,
    "start_time": "2023-08-12T13:36:33.196Z"
   },
   {
    "duration": 7,
    "start_time": "2023-08-12T13:36:55.930Z"
   },
   {
    "duration": 6,
    "start_time": "2023-08-12T13:37:05.178Z"
   },
   {
    "duration": 5,
    "start_time": "2023-08-12T13:37:34.172Z"
   },
   {
    "duration": 7,
    "start_time": "2023-08-12T13:37:36.888Z"
   },
   {
    "duration": 20,
    "start_time": "2023-08-12T13:40:39.592Z"
   },
   {
    "duration": 3,
    "start_time": "2023-08-12T13:40:45.205Z"
   },
   {
    "duration": 10,
    "start_time": "2023-08-12T13:41:31.572Z"
   },
   {
    "duration": 6,
    "start_time": "2023-08-12T13:41:36.355Z"
   },
   {
    "duration": 8,
    "start_time": "2023-08-12T13:42:00.562Z"
   },
   {
    "duration": 10,
    "start_time": "2023-08-12T13:42:06.270Z"
   },
   {
    "duration": 7,
    "start_time": "2023-08-12T13:43:53.814Z"
   },
   {
    "duration": 10,
    "start_time": "2023-08-12T13:43:58.917Z"
   },
   {
    "duration": 15,
    "start_time": "2023-08-12T13:44:39.719Z"
   },
   {
    "duration": 4,
    "start_time": "2023-08-12T14:09:40.681Z"
   },
   {
    "duration": 6,
    "start_time": "2023-08-12T14:09:43.892Z"
   },
   {
    "duration": 6,
    "start_time": "2023-08-12T14:09:48.280Z"
   },
   {
    "duration": 11,
    "start_time": "2023-08-12T14:09:51.337Z"
   },
   {
    "duration": 25,
    "start_time": "2023-08-12T14:09:54.693Z"
   },
   {
    "duration": 5,
    "start_time": "2023-08-12T14:10:29.005Z"
   },
   {
    "duration": 7,
    "start_time": "2023-08-12T14:11:40.169Z"
   },
   {
    "duration": 7,
    "start_time": "2023-08-12T14:11:58.234Z"
   },
   {
    "duration": 7,
    "start_time": "2023-08-12T14:12:35.768Z"
   },
   {
    "duration": 4,
    "start_time": "2023-08-12T14:12:39.336Z"
   },
   {
    "duration": 5,
    "start_time": "2023-08-12T14:12:42.248Z"
   },
   {
    "duration": 7,
    "start_time": "2023-08-12T14:12:45.300Z"
   },
   {
    "duration": 5,
    "start_time": "2023-08-12T14:12:52.763Z"
   },
   {
    "duration": 3,
    "start_time": "2023-08-12T14:16:17.180Z"
   },
   {
    "duration": 5,
    "start_time": "2023-08-12T14:16:28.710Z"
   },
   {
    "duration": 7,
    "start_time": "2023-08-12T14:17:03.161Z"
   },
   {
    "duration": 32,
    "start_time": "2023-08-12T14:19:52.965Z"
   },
   {
    "duration": 2005,
    "start_time": "2023-08-12T14:55:46.026Z"
   },
   {
    "duration": 60,
    "start_time": "2023-08-12T14:55:48.034Z"
   },
   {
    "duration": 8,
    "start_time": "2023-08-12T14:55:48.096Z"
   },
   {
    "duration": 15,
    "start_time": "2023-08-12T14:55:48.105Z"
   },
   {
    "duration": 6,
    "start_time": "2023-08-12T14:55:48.122Z"
   },
   {
    "duration": 145,
    "start_time": "2023-08-12T14:55:48.129Z"
   },
   {
    "duration": 35,
    "start_time": "2023-08-12T14:55:48.276Z"
   },
   {
    "duration": 361,
    "start_time": "2023-08-12T14:55:48.313Z"
   },
   {
    "duration": 3900,
    "start_time": "2023-08-12T14:57:11.784Z"
   },
   {
    "duration": 1599,
    "start_time": "2023-08-12T17:19:21.473Z"
   },
   {
    "duration": 159,
    "start_time": "2023-08-12T17:19:23.101Z"
   },
   {
    "duration": 9,
    "start_time": "2023-08-12T17:19:37.478Z"
   },
   {
    "duration": 40,
    "start_time": "2023-08-12T17:19:44.420Z"
   },
   {
    "duration": 26,
    "start_time": "2023-08-12T17:25:48.331Z"
   },
   {
    "duration": 16,
    "start_time": "2023-08-12T17:25:50.652Z"
   },
   {
    "duration": 5,
    "start_time": "2023-08-12T17:26:09.828Z"
   },
   {
    "duration": 124,
    "start_time": "2023-08-12T17:28:25.473Z"
   },
   {
    "duration": 4,
    "start_time": "2023-08-12T17:30:42.426Z"
   },
   {
    "duration": 6,
    "start_time": "2023-08-12T17:31:22.070Z"
   },
   {
    "duration": 5,
    "start_time": "2023-08-12T17:31:41.398Z"
   },
   {
    "duration": 118,
    "start_time": "2023-08-12T17:35:48.233Z"
   },
   {
    "duration": 5,
    "start_time": "2023-08-12T17:36:03.315Z"
   },
   {
    "duration": 6,
    "start_time": "2023-08-12T17:36:05.716Z"
   },
   {
    "duration": 6,
    "start_time": "2023-08-12T17:36:06.581Z"
   },
   {
    "duration": 12,
    "start_time": "2023-08-12T17:36:08.151Z"
   },
   {
    "duration": 7,
    "start_time": "2023-08-12T17:36:15.997Z"
   },
   {
    "duration": 24,
    "start_time": "2023-08-12T17:36:22.971Z"
   },
   {
    "duration": 26,
    "start_time": "2023-08-12T17:37:46.843Z"
   },
   {
    "duration": 4,
    "start_time": "2023-08-12T17:38:12.451Z"
   },
   {
    "duration": 8,
    "start_time": "2023-08-12T17:38:28.061Z"
   },
   {
    "duration": 4,
    "start_time": "2023-08-12T17:38:37.628Z"
   },
   {
    "duration": 6,
    "start_time": "2023-08-12T17:38:47.686Z"
   },
   {
    "duration": 4,
    "start_time": "2023-08-12T17:39:00.520Z"
   },
   {
    "duration": 7,
    "start_time": "2023-08-12T17:39:08.057Z"
   },
   {
    "duration": 1695,
    "start_time": "2023-08-12T18:04:54.134Z"
   },
   {
    "duration": 45,
    "start_time": "2023-08-12T18:05:04.147Z"
   },
   {
    "duration": 316,
    "start_time": "2023-08-12T18:06:02.460Z"
   },
   {
    "duration": 375,
    "start_time": "2023-08-12T18:07:26.491Z"
   },
   {
    "duration": 128,
    "start_time": "2023-08-12T18:08:28.723Z"
   },
   {
    "duration": 10,
    "start_time": "2023-08-12T18:08:38.643Z"
   },
   {
    "duration": 4,
    "start_time": "2023-08-12T18:08:49.227Z"
   },
   {
    "duration": 56,
    "start_time": "2023-08-12T18:08:50.495Z"
   },
   {
    "duration": 14,
    "start_time": "2023-08-12T18:08:52.857Z"
   },
   {
    "duration": 16,
    "start_time": "2023-08-12T18:08:57.184Z"
   },
   {
    "duration": 14,
    "start_time": "2023-08-12T18:08:58.574Z"
   },
   {
    "duration": 6,
    "start_time": "2023-08-12T18:09:00.048Z"
   },
   {
    "duration": 114,
    "start_time": "2023-08-12T18:09:03.704Z"
   },
   {
    "duration": 7,
    "start_time": "2023-08-12T18:09:16.181Z"
   },
   {
    "duration": 221,
    "start_time": "2023-08-12T18:09:17.013Z"
   },
   {
    "duration": 295,
    "start_time": "2023-08-12T18:11:01.305Z"
   },
   {
    "duration": 195,
    "start_time": "2023-08-12T18:11:04.390Z"
   },
   {
    "duration": 199,
    "start_time": "2023-08-12T18:11:18.634Z"
   },
   {
    "duration": 199,
    "start_time": "2023-08-12T18:16:23.523Z"
   },
   {
    "duration": 188,
    "start_time": "2023-08-12T18:16:32.590Z"
   },
   {
    "duration": 208,
    "start_time": "2023-08-12T18:16:47.802Z"
   },
   {
    "duration": 221,
    "start_time": "2023-08-12T18:16:54.245Z"
   },
   {
    "duration": 187,
    "start_time": "2023-08-12T18:17:13.791Z"
   },
   {
    "duration": 197,
    "start_time": "2023-08-12T18:17:36.445Z"
   },
   {
    "duration": 191,
    "start_time": "2023-08-12T18:17:37.774Z"
   },
   {
    "duration": 205,
    "start_time": "2023-08-12T18:22:04.394Z"
   },
   {
    "duration": 314,
    "start_time": "2023-08-12T18:22:09.645Z"
   },
   {
    "duration": 85,
    "start_time": "2023-08-12T18:22:30.221Z"
   },
   {
    "duration": 183,
    "start_time": "2023-08-12T18:22:41.935Z"
   },
   {
    "duration": 309,
    "start_time": "2023-08-12T18:23:03.207Z"
   },
   {
    "duration": 356,
    "start_time": "2023-08-12T18:23:37.149Z"
   },
   {
    "duration": 303,
    "start_time": "2023-08-12T18:23:48.353Z"
   },
   {
    "duration": 62,
    "start_time": "2023-08-12T18:27:49.988Z"
   },
   {
    "duration": 53,
    "start_time": "2023-08-12T18:28:02.973Z"
   },
   {
    "duration": 58,
    "start_time": "2023-08-12T18:28:11.247Z"
   },
   {
    "duration": 328,
    "start_time": "2023-08-12T18:28:14.398Z"
   },
   {
    "duration": 210,
    "start_time": "2023-08-12T18:29:27.215Z"
   },
   {
    "duration": 265,
    "start_time": "2023-08-12T18:29:44.974Z"
   },
   {
    "duration": 407,
    "start_time": "2023-08-12T18:30:24.898Z"
   },
   {
    "duration": 315,
    "start_time": "2023-08-12T18:30:33.306Z"
   },
   {
    "duration": 55,
    "start_time": "2023-08-12T18:46:24.590Z"
   },
   {
    "duration": 44,
    "start_time": "2023-08-12T18:46:40.337Z"
   },
   {
    "duration": 10,
    "start_time": "2023-08-12T18:46:46.823Z"
   },
   {
    "duration": 7,
    "start_time": "2023-08-12T18:48:02.620Z"
   },
   {
    "duration": 5,
    "start_time": "2023-08-12T18:49:16.748Z"
   },
   {
    "duration": 8,
    "start_time": "2023-08-12T18:49:21.046Z"
   },
   {
    "duration": 6,
    "start_time": "2023-08-12T18:49:22.029Z"
   },
   {
    "duration": 11,
    "start_time": "2023-08-12T18:49:48.113Z"
   },
   {
    "duration": 13,
    "start_time": "2023-08-12T19:07:13.658Z"
   },
   {
    "duration": 20,
    "start_time": "2023-08-12T19:07:35.653Z"
   },
   {
    "duration": 280,
    "start_time": "2023-08-12T19:08:03.499Z"
   },
   {
    "duration": 64,
    "start_time": "2023-08-12T19:20:18.211Z"
   },
   {
    "duration": 13,
    "start_time": "2023-08-12T19:20:27.979Z"
   },
   {
    "duration": 3593,
    "start_time": "2023-08-12T19:20:59.534Z"
   },
   {
    "duration": 3501,
    "start_time": "2023-08-12T19:21:34.597Z"
   },
   {
    "duration": 3568,
    "start_time": "2023-08-12T19:22:32.016Z"
   },
   {
    "duration": 281989,
    "start_time": "2023-08-12T19:22:51.506Z"
   },
   {
    "duration": 12,
    "start_time": "2023-08-12T19:28:44.421Z"
   },
   {
    "duration": 9975,
    "start_time": "2023-08-12T19:29:16.687Z"
   },
   {
    "duration": 3,
    "start_time": "2023-08-12T20:03:27.497Z"
   },
   {
    "duration": 135982,
    "start_time": "2023-08-12T20:04:36.438Z"
   },
   {
    "duration": 77,
    "start_time": "2023-08-12T20:06:57.727Z"
   },
   {
    "duration": 2961,
    "start_time": "2023-08-12T20:07:09.980Z"
   },
   {
    "duration": 10932,
    "start_time": "2023-08-12T20:08:53.443Z"
   },
   {
    "duration": 7943,
    "start_time": "2023-08-12T20:11:17.485Z"
   },
   {
    "duration": 10293,
    "start_time": "2023-08-12T20:11:42.389Z"
   },
   {
    "duration": 13544,
    "start_time": "2023-08-12T20:11:58.156Z"
   },
   {
    "duration": 64869,
    "start_time": "2023-08-12T20:12:42.509Z"
   },
   {
    "duration": 26423,
    "start_time": "2023-08-12T20:13:52.536Z"
   },
   {
    "duration": 21185,
    "start_time": "2023-08-12T20:14:25.021Z"
   },
   {
    "duration": 23731,
    "start_time": "2023-08-12T20:15:07.847Z"
   },
   {
    "duration": 31353,
    "start_time": "2023-08-12T20:16:12.006Z"
   },
   {
    "duration": 16923,
    "start_time": "2023-08-12T20:16:47.481Z"
   },
   {
    "duration": 18599,
    "start_time": "2023-08-12T20:17:07.685Z"
   },
   {
    "duration": 18769,
    "start_time": "2023-08-12T20:17:36.344Z"
   },
   {
    "duration": 23538,
    "start_time": "2023-08-12T20:18:07.624Z"
   },
   {
    "duration": 560078,
    "start_time": "2023-08-12T20:24:06.836Z"
   },
   {
    "duration": 0,
    "start_time": "2023-08-12T20:33:26.916Z"
   },
   {
    "duration": 65370,
    "start_time": "2023-08-12T20:33:42.867Z"
   },
   {
    "duration": 720,
    "start_time": "2023-08-12T20:34:48.239Z"
   },
   {
    "duration": 16818,
    "start_time": "2023-08-12T20:34:48.962Z"
   },
   {
    "duration": 23,
    "start_time": "2023-08-12T20:35:05.782Z"
   },
   {
    "duration": 240,
    "start_time": "2023-08-12T20:38:27.721Z"
   },
   {
    "duration": 1800,
    "start_time": "2023-08-12T20:38:42.561Z"
   },
   {
    "duration": 1543,
    "start_time": "2023-08-12T20:38:50.373Z"
   },
   {
    "duration": 1568,
    "start_time": "2023-08-12T20:39:06.456Z"
   },
   {
    "duration": 2039,
    "start_time": "2023-08-12T20:39:25.979Z"
   },
   {
    "duration": 120,
    "start_time": "2023-08-12T20:39:43.248Z"
   },
   {
    "duration": 5294,
    "start_time": "2023-08-12T20:39:54.335Z"
   },
   {
    "duration": 12679,
    "start_time": "2023-08-12T20:40:06.048Z"
   },
   {
    "duration": 6,
    "start_time": "2023-08-12T20:40:18.729Z"
   },
   {
    "duration": 3737,
    "start_time": "2023-08-13T18:51:21.849Z"
   },
   {
    "duration": 174,
    "start_time": "2023-08-13T18:51:25.588Z"
   },
   {
    "duration": 22,
    "start_time": "2023-08-13T18:51:25.764Z"
   },
   {
    "duration": 154,
    "start_time": "2023-08-13T18:51:28.740Z"
   },
   {
    "duration": 9,
    "start_time": "2023-08-13T18:51:50.824Z"
   },
   {
    "duration": 248,
    "start_time": "2023-08-13T18:51:51.560Z"
   },
   {
    "duration": 423,
    "start_time": "2023-08-13T18:52:03.656Z"
   },
   {
    "duration": 339,
    "start_time": "2023-08-13T18:52:05.571Z"
   },
   {
    "duration": 330,
    "start_time": "2023-08-13T18:52:07.128Z"
   },
   {
    "duration": 56,
    "start_time": "2023-08-13T18:55:25.183Z"
   },
   {
    "duration": 49,
    "start_time": "2023-08-13T18:55:30.033Z"
   },
   {
    "duration": 12,
    "start_time": "2023-08-13T18:55:32.433Z"
   },
   {
    "duration": 67,
    "start_time": "2023-08-13T18:59:05.066Z"
   },
   {
    "duration": 5,
    "start_time": "2023-08-13T18:59:47.289Z"
   },
   {
    "duration": 8,
    "start_time": "2023-08-13T18:59:49.321Z"
   },
   {
    "duration": 7,
    "start_time": "2023-08-13T18:59:49.914Z"
   },
   {
    "duration": 570,
    "start_time": "2023-08-13T18:59:51.097Z"
   }
  ],
  "kernelspec": {
   "display_name": "Python 3 (ipykernel)",
   "language": "python",
   "name": "python3"
  },
  "language_info": {
   "codemirror_mode": {
    "name": "ipython",
    "version": 3
   },
   "file_extension": ".py",
   "mimetype": "text/x-python",
   "name": "python",
   "nbconvert_exporter": "python",
   "pygments_lexer": "ipython3",
   "version": "3.11.5"
  },
  "toc": {
   "base_numbering": 1,
   "nav_menu": {},
   "number_sections": true,
   "sideBar": true,
   "skip_h1_title": true,
   "title_cell": "Содержание",
   "title_sidebar": "Contents",
   "toc_cell": true,
   "toc_position": {},
   "toc_section_display": true,
   "toc_window_display": false
  }
 },
 "nbformat": 4,
 "nbformat_minor": 2
}
